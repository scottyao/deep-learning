{
 "cells": [
  {
   "cell_type": "markdown",
   "metadata": {
    "collapsed": true
   },
   "source": [
    "# Image Classification\n",
    "In this project, you'll classify images from the [CIFAR-10 dataset](https://www.cs.toronto.edu/~kriz/cifar.html).  The dataset consists of airplanes, dogs, cats, and other objects. You'll preprocess the images, then train a convolutional neural network on all the samples. The images need to be normalized and the labels need to be one-hot encoded.  You'll get to apply what you learned and build a convolutional, max pooling, dropout, and fully connected layers.  At the end, you'll get to see your neural network's predictions on the sample images.\n",
    "## Get the Data\n",
    "Run the following cell to download the [CIFAR-10 dataset for python](https://www.cs.toronto.edu/~kriz/cifar-10-python.tar.gz)."
   ]
  },
  {
   "cell_type": "code",
   "execution_count": 5,
   "metadata": {},
   "outputs": [
    {
     "name": "stderr",
     "output_type": "stream",
     "text": [
      "CIFAR-10 Dataset: 171MB [03:01, 942KB/s]                               \n"
     ]
    },
    {
     "name": "stdout",
     "output_type": "stream",
     "text": [
      "All files found!\n"
     ]
    }
   ],
   "source": [
    "\"\"\"\n",
    "DON'T MODIFY ANYTHING IN THIS CELL THAT IS BELOW THIS LINE\n",
    "\"\"\"\n",
    "from urllib.request import urlretrieve\n",
    "from os.path import isfile, isdir\n",
    "from tqdm import tqdm\n",
    "import problem_unittests as tests\n",
    "import tarfile\n",
    "\n",
    "cifar10_dataset_folder_path = 'cifar-10-batches-py'\n",
    "\n",
    "# Use Floyd's cifar-10 dataset if present\n",
    "floyd_cifar10_location = '/input/cifar-10/python.tar.gz'\n",
    "if isfile(floyd_cifar10_location):\n",
    "    tar_gz_path = floyd_cifar10_location\n",
    "else:\n",
    "    tar_gz_path = 'cifar-10-python.tar.gz'\n",
    "\n",
    "class DLProgress(tqdm):\n",
    "    last_block = 0\n",
    "\n",
    "    def hook(self, block_num=1, block_size=1, total_size=None):\n",
    "        self.total = total_size\n",
    "        self.update((block_num - self.last_block) * block_size)\n",
    "        self.last_block = block_num\n",
    "\n",
    "if not isfile(tar_gz_path):\n",
    "    with DLProgress(unit='B', unit_scale=True, miniters=1, desc='CIFAR-10 Dataset') as pbar:\n",
    "        urlretrieve(\n",
    "            'https://www.cs.toronto.edu/~kriz/cifar-10-python.tar.gz',\n",
    "            tar_gz_path,\n",
    "            pbar.hook)\n",
    "\n",
    "if not isdir(cifar10_dataset_folder_path):\n",
    "    with tarfile.open(tar_gz_path) as tar:\n",
    "        tar.extractall()\n",
    "        tar.close()\n",
    "\n",
    "\n",
    "tests.test_folder_path(cifar10_dataset_folder_path)"
   ]
  },
  {
   "cell_type": "markdown",
   "metadata": {},
   "source": [
    "## Explore the Data\n",
    "The dataset is broken into batches to prevent your machine from running out of memory.  The CIFAR-10 dataset consists of 5 batches, named `data_batch_1`, `data_batch_2`, etc.. Each batch contains the labels and images that are one of the following:\n",
    "* airplane\n",
    "* automobile\n",
    "* bird\n",
    "* cat\n",
    "* deer\n",
    "* dog\n",
    "* frog\n",
    "* horse\n",
    "* ship\n",
    "* truck\n",
    "\n",
    "Understanding a dataset is part of making predictions on the data.  Play around with the code cell below by changing the `batch_id` and `sample_id`. The `batch_id` is the id for a batch (1-5). The `sample_id` is the id for a image and label pair in the batch.\n",
    "\n",
    "Ask yourself \"What are all possible labels?\", \"What is the range of values for the image data?\", \"Are the labels in order or random?\".  Answers to questions like these will help you preprocess the data and end up with better predictions."
   ]
  },
  {
   "cell_type": "code",
   "execution_count": 15,
   "metadata": {},
   "outputs": [
    {
     "name": "stdout",
     "output_type": "stream",
     "text": [
      "\n",
      "Stats of batch 5:\n",
      "Samples: 10000\n",
      "Label Counts: {0: 1014, 1: 1014, 2: 952, 3: 1016, 4: 997, 5: 1025, 6: 980, 7: 977, 8: 1003, 9: 1022}\n",
      "First 20 Labels: [1, 8, 5, 1, 5, 7, 4, 3, 8, 2, 7, 2, 0, 1, 5, 9, 6, 2, 0, 8]\n",
      "\n",
      "Example of Image 2:\n",
      "Image - Min Value: 0 Max Value: 255\n",
      "Image - Shape: (32, 32, 3)\n",
      "Label - Label Id: 5 Name: dog\n"
     ]
    },
    {
     "data": {
      "image/png": "[encoded data removed]",
      "text/plain": [
       "<matplotlib.figure.Figure at 0x11b040f60>"
      ]
     },
     "metadata": {
      "image/png": {
       "height": 250,
       "width": 253
      }
     },
     "output_type": "display_data"
    }
   ],
   "source": [
    "%matplotlib inline\n",
    "%config InlineBackend.figure_format = 'retina'\n",
    "\n",
    "import helper\n",
    "import numpy as np\n",
    "\n",
    "# Explore the dataset\n",
    "batch_id = 5\n",
    "sample_id = 2\n",
    "helper.display_stats(cifar10_dataset_folder_path, batch_id, sample_id)"
   ]
  },
  {
   "cell_type": "markdown",
   "metadata": {},
   "source": [
    "## Implement Preprocess Functions\n",
    "### Normalize\n",
    "In the cell below, implement the `normalize` function to take in image data, `x`, and return it as a normalized Numpy array. The values should be in the range of 0 to 1, inclusive.  The return object should be the same shape as `x`."
   ]
  },
  {
   "cell_type": "code",
   "execution_count": 26,
   "metadata": {},
   "outputs": [
    {
     "name": "stdout",
     "output_type": "stream",
     "text": [
      "Tests Passed\n"
     ]
    }
   ],
   "source": [
    "def normalize(x):\n",
    "    \"\"\"\n",
    "    Normalize a list of sample image data in the range of 0 to 1\n",
    "    : x: List of image data.  The image shape is (32, 32, 3)\n",
    "    : return: Numpy array of normalize data\n",
    "    \"\"\"\n",
    "    return x/255.0\n",
    "\n",
    "\n",
    "\"\"\"\n",
    "DON'T MODIFY ANYTHING IN THIS CELL THAT IS BELOW THIS LINE\n",
    "\"\"\"\n",
    "tests.test_normalize(normalize)"
   ]
  },
  {
   "cell_type": "markdown",
   "metadata": {},
   "source": [
    "### One-hot encode\n",
    "Just like the previous code cell, you'll be implementing a function for preprocessing.  This time, you'll implement the `one_hot_encode` function. The input, `x`, are a list of labels.  Implement the function to return the list of labels as One-Hot encoded Numpy array.  The possible values for labels are 0 to 9. The one-hot encoding function should return the same encoding for each value between each call to `one_hot_encode`.  Make sure to save the map of encodings outside the function.\n",
    "\n",
    "Hint: Don't reinvent the wheel."
   ]
  },
  {
   "cell_type": "code",
   "execution_count": 39,
   "metadata": {},
   "outputs": [
    {
     "name": "stdout",
     "output_type": "stream",
     "text": [
      "Tests Passed\n"
     ]
    }
   ],
   "source": [
    "def one_hot_encode(x):\n",
    "    \"\"\"\n",
    "    One hot encode a list of sample labels. Return a one-hot encoded vector for each label.\n",
    "    : x: List of sample Labels\n",
    "    : return: Numpy array of one-hot encoded labels\n",
    "    \"\"\"\n",
    "    import numpy as np\n",
    "    nb_classes = 10\n",
    "    one_hot_targets = np.eye(nb_classes)[x]\n",
    "    return one_hot_targets\n",
    "\n",
    "\n",
    "\"\"\"\n",
    "DON'T MODIFY ANYTHING IN THIS CELL THAT IS BELOW THIS LINE\n",
    "\"\"\"\n",
    "tests.test_one_hot_encode(one_hot_encode)"
   ]
  },
  {
   "cell_type": "markdown",
   "metadata": {},
   "source": [
    "### Randomize Data\n",
    "As you saw from exploring the data above, the order of the samples are randomized.  It doesn't hurt to randomize it again, but you don't need to for this dataset."
   ]
  },
  {
   "cell_type": "markdown",
   "metadata": {},
   "source": [
    "## Preprocess all the data and save it\n",
    "Running the code cell below will preprocess all the CIFAR-10 data and save it to file. The code below also uses 10% of the training data for validation."
   ]
  },
  {
   "cell_type": "code",
   "execution_count": 40,
   "metadata": {
    "collapsed": true
   },
   "outputs": [],
   "source": [
    "\"\"\"\n",
    "DON'T MODIFY ANYTHING IN THIS CELL\n",
    "\"\"\"\n",
    "# Preprocess Training, Validation, and Testing Data\n",
    "helper.preprocess_and_save_data(cifar10_dataset_folder_path, normalize, one_hot_encode)"
   ]
  },
  {
   "cell_type": "markdown",
   "metadata": {},
   "source": [
    "# Check Point\n",
    "This is your first checkpoint.  If you ever decide to come back to this notebook or have to restart the notebook, you can start from here.  The preprocessed data has been saved to disk."
   ]
  },
  {
   "cell_type": "code",
   "execution_count": 59,
   "metadata": {
    "collapsed": true
   },
   "outputs": [],
   "source": [
    "\"\"\"\n",
    "DON'T MODIFY ANYTHING IN THIS CELL\n",
    "\"\"\"\n",
    "import pickle\n",
    "import problem_unittests as tests\n",
    "import helper\n",
    "\n",
    "# Load the Preprocessed Validation data\n",
    "valid_features, valid_labels = pickle.load(open('preprocess_validation.p', mode='rb'))"
   ]
  },
  {
   "cell_type": "markdown",
   "metadata": {},
   "source": [
    "## Build the network\n",
    "For the neural network, you'll build each layer into a function.  Most of the code you've seen has been outside of functions. To test your code more thoroughly, we require that you put each layer in a function.  This allows us to give you better feedback and test for simple mistakes using our unittests before you submit your project.\n",
    "\n",
    ">**Note:** If you're finding it hard to dedicate enough time for this course each week, we've provided a small shortcut to this part of the project. In the next couple of problems, you'll have the option to use classes from the [TensorFlow Layers](https://www.tensorflow.org/api_docs/python/tf/layers) or [TensorFlow Layers (contrib)](https://www.tensorflow.org/api_guides/python/contrib.layers) packages to build each layer, except the layers you build in the \"Convolutional and Max Pooling Layer\" section.  TF Layers is similar to Keras's and TFLearn's abstraction to layers, so it's easy to pickup.\n",
    "\n",
    ">However, if you would like to get the most out of this course, try to solve all the problems _without_ using anything from the TF Layers packages. You **can** still use classes from other packages that happen to have the same name as ones you find in TF Layers! For example, instead of using the TF Layers version of the `conv2d` class, [tf.layers.conv2d](https://www.tensorflow.org/api_docs/python/tf/layers/conv2d), you would want to use the TF Neural Network version of `conv2d`, [tf.nn.conv2d](https://www.tensorflow.org/api_docs/python/tf/nn/conv2d). \n",
    "\n",
    "Let's begin!\n",
    "\n",
    "### Input\n",
    "The neural network needs to read the image data, one-hot encoded labels, and dropout keep probability. Implement the following functions\n",
    "* Implement `neural_net_image_input`\n",
    " * Return a [TF Placeholder](https://www.tensorflow.org/api_docs/python/tf/placeholder)\n",
    " * Set the shape using `image_shape` with batch size set to `None`.\n",
    " * Name the TensorFlow placeholder \"x\" using the TensorFlow `name` parameter in the [TF Placeholder](https://www.tensorflow.org/api_docs/python/tf/placeholder).\n",
    "* Implement `neural_net_label_input`\n",
    " * Return a [TF Placeholder](https://www.tensorflow.org/api_docs/python/tf/placeholder)\n",
    " * Set the shape using `n_classes` with batch size set to `None`.\n",
    " * Name the TensorFlow placeholder \"y\" using the TensorFlow `name` parameter in the [TF Placeholder](https://www.tensorflow.org/api_docs/python/tf/placeholder).\n",
    "* Implement `neural_net_keep_prob_input`\n",
    " * Return a [TF Placeholder](https://www.tensorflow.org/api_docs/python/tf/placeholder) for dropout keep probability.\n",
    " * Name the TensorFlow placeholder \"keep_prob\" using the TensorFlow `name` parameter in the [TF Placeholder](https://www.tensorflow.org/api_docs/python/tf/placeholder).\n",
    "\n",
    "These names will be used at the end of the project to load your saved model.\n",
    "\n",
    "Note: `None` for shapes in TensorFlow allow for a dynamic size."
   ]
  },
  {
   "cell_type": "code",
   "execution_count": 60,
   "metadata": {},
   "outputs": [
    {
     "name": "stdout",
     "output_type": "stream",
     "text": [
      "Image Input Tests Passed.\n",
      "Label Input Tests Passed.\n",
      "Keep Prob Tests Passed.\n"
     ]
    }
   ],
   "source": [
    "import tensorflow as tf\n",
    "\n",
    "def neural_net_image_input(image_shape):\n",
    "    \"\"\"\n",
    "    Return a Tensor for a batch of image input\n",
    "    : image_shape: Shape of the images\n",
    "    : return: Tensor for image input.\n",
    "    \"\"\"\n",
    "    # TODO: Implement Function\n",
    "    return tf.placeholder(tf.float32, shape=([None] + list(image_shape)), name='x')\n",
    "\n",
    "\n",
    "def neural_net_label_input(n_classes):\n",
    "    \"\"\"\n",
    "    Return a Tensor for a batch of label input\n",
    "    : n_classes: Number of classes\n",
    "    : return: Tensor for label input.\n",
    "    \"\"\"\n",
    "    # TODO: Implement Function\n",
    "    return tf.placeholder(tf.int32, shape=([None, n_classes]), name='y')\n",
    "\n",
    "\n",
    "def neural_net_keep_prob_input():\n",
    "    \"\"\"\n",
    "    Return a Tensor for keep probability\n",
    "    : return: Tensor for keep probability.\n",
    "    \"\"\"\n",
    "    # TODO: Implement Function\n",
    "    return tf.placeholder(tf.float32, name='keep_prob')\n",
    "\n",
    "\n",
    "\"\"\"\n",
    "DON'T MODIFY ANYTHING IN THIS CELL THAT IS BELOW THIS LINE\n",
    "\"\"\"\n",
    "tf.reset_default_graph()\n",
    "tests.test_nn_image_inputs(neural_net_image_input)\n",
    "tests.test_nn_label_inputs(neural_net_label_input)\n",
    "tests.test_nn_keep_prob_inputs(neural_net_keep_prob_input)"
   ]
  },
  {
   "cell_type": "markdown",
   "metadata": {},
   "source": [
    "### Convolution and Max Pooling Layer\n",
    "Convolution layers have a lot of success with images. For this code cell, you should implement the function `conv2d_maxpool` to apply convolution then max pooling:\n",
    "* Create the weight and bias using `conv_ksize`, `conv_num_outputs` and the shape of `x_tensor`.\n",
    "* Apply a convolution to `x_tensor` using weight and `conv_strides`.\n",
    " * We recommend you use same padding, but you're welcome to use any padding.\n",
    "* Add bias\n",
    "* Add a nonlinear activation to the convolution.\n",
    "* Apply Max Pooling using `pool_ksize` and `pool_strides`.\n",
    " * We recommend you use same padding, but you're welcome to use any padding.\n",
    "\n",
    "**Note:** You **can't** use [TensorFlow Layers](https://www.tensorflow.org/api_docs/python/tf/layers) or [TensorFlow Layers (contrib)](https://www.tensorflow.org/api_guides/python/contrib.layers) for **this** layer, but you can still use TensorFlow's [Neural Network](https://www.tensorflow.org/api_docs/python/tf/nn) package. You may still use the shortcut option for all the **other** layers."
   ]
  },
  {
   "cell_type": "code",
   "execution_count": 61,
   "metadata": {},
   "outputs": [
    {
     "name": "stdout",
     "output_type": "stream",
     "text": [
      "Tests Passed\n"
     ]
    }
   ],
   "source": [
    "def conv2d_maxpool(x_tensor, conv_num_outputs, conv_ksize, conv_strides, pool_ksize, pool_strides):\n",
    "    \"\"\"\n",
    "    Apply convolution then max pooling to x_tensor\n",
    "    :param x_tensor: TensorFlow Tensor\n",
    "    :param conv_num_outputs: Number of outputs for the convolutional layer\n",
    "    :param conv_ksize: kernal size 2-D Tuple for the convolutional layer\n",
    "    :param conv_strides: Stride 2-D Tuple for convolution\n",
    "    :param pool_ksize: kernal size 2-D Tuple for pool\n",
    "    :param pool_strides: Stride 2-D Tuple for pool\n",
    "    : return: A tensor that represents convolution and max pooling of x_tensor\n",
    "    \"\"\"\n",
    "    # TODO: Implement Function\n",
    "    weights = tf.Variable(tf.truncated_normal([conv_ksize[0], conv_ksize[1], x_tensor.shape[3].value, conv_num_outputs], stddev=0.02))\n",
    "    bias = tf.Variable(tf.zeros(conv_num_outputs))\n",
    "    \n",
    "    layer = tf.nn.conv2d(x_tensor, weights, [1, conv_strides[0], conv_strides[1], 1], padding='SAME')\n",
    "    layer = tf.nn.bias_add(layer, bias)\n",
    "    layer = tf.nn.relu(layer)\n",
    "    \n",
    "    return tf.nn.max_pool(layer, ksize=[1, pool_ksize[0], pool_ksize[1], 1], strides=[1, pool_strides[0], pool_strides[1], 1], padding='SAME') \n",
    "\n",
    "\n",
    "\"\"\"\n",
    "DON'T MODIFY ANYTHING IN THIS CELL THAT IS BELOW THIS LINE\n",
    "\"\"\"\n",
    "tests.test_con_pool(conv2d_maxpool)"
   ]
  },
  {
   "cell_type": "markdown",
   "metadata": {},
   "source": [
    "### Flatten Layer\n",
    "Implement the `flatten` function to change the dimension of `x_tensor` from a 4-D tensor to a 2-D tensor.  The output should be the shape (*Batch Size*, *Flattened Image Size*). Shortcut option: you can use classes from the [TensorFlow Layers](https://www.tensorflow.org/api_docs/python/tf/layers) or [TensorFlow Layers (contrib)](https://www.tensorflow.org/api_guides/python/contrib.layers) packages for this layer. For more of a challenge, only use other TensorFlow packages."
   ]
  },
  {
   "cell_type": "code",
   "execution_count": 62,
   "metadata": {},
   "outputs": [
    {
     "name": "stdout",
     "output_type": "stream",
     "text": [
      "Tests Passed\n"
     ]
    }
   ],
   "source": [
    "def flatten(x_tensor):\n",
    "    \"\"\"\n",
    "    Flatten x_tensor to (Batch Size, Flattened Image Size)\n",
    "    : x_tensor: A tensor of size (Batch Size, ...), where ... are the image dimensions.\n",
    "    : return: A tensor of size (Batch Size, Flattened Image Size).\n",
    "    \"\"\"\n",
    "    # TODO: Implement Function\n",
    "    return tf.contrib.layers.flatten(x_tensor)\n",
    "\n",
    "\n",
    "\"\"\"\n",
    "DON'T MODIFY ANYTHING IN THIS CELL THAT IS BELOW THIS LINE\n",
    "\"\"\"\n",
    "tests.test_flatten(flatten)"
   ]
  },
  {
   "cell_type": "markdown",
   "metadata": {},
   "source": [
    "### Fully-Connected Layer\n",
    "Implement the `fully_conn` function to apply a fully connected layer to `x_tensor` with the shape (*Batch Size*, *num_outputs*). Shortcut option: you can use classes from the [TensorFlow Layers](https://www.tensorflow.org/api_docs/python/tf/layers) or [TensorFlow Layers (contrib)](https://www.tensorflow.org/api_guides/python/contrib.layers) packages for this layer. For more of a challenge, only use other TensorFlow packages."
   ]
  },
  {
   "cell_type": "code",
   "execution_count": 63,
   "metadata": {},
   "outputs": [
    {
     "name": "stdout",
     "output_type": "stream",
     "text": [
      "Tests Passed\n"
     ]
    }
   ],
   "source": [
    "def fully_conn(x_tensor, num_outputs):\n",
    "    \"\"\"\n",
    "    Apply a fully connected layer to x_tensor using weight and bias\n",
    "    : x_tensor: A 2-D tensor where the first dimension is batch size.\n",
    "    : num_outputs: The number of output that the new tensor should be.\n",
    "    : return: A 2-D tensor where the second dimension is num_outputs.\n",
    "    \"\"\"\n",
    "    # TODO: Implement Function\n",
    "    return tf.contrib.layers.fully_connected(x_tensor, num_outputs)\n",
    "\n",
    "\n",
    "\"\"\"\n",
    "DON'T MODIFY ANYTHING IN THIS CELL THAT IS BELOW THIS LINE\n",
    "\"\"\"\n",
    "tests.test_fully_conn(fully_conn)"
   ]
  },
  {
   "cell_type": "markdown",
   "metadata": {},
   "source": [
    "### Output Layer\n",
    "Implement the `output` function to apply a fully connected layer to `x_tensor` with the shape (*Batch Size*, *num_outputs*). Shortcut option: you can use classes from the [TensorFlow Layers](https://www.tensorflow.org/api_docs/python/tf/layers) or [TensorFlow Layers (contrib)](https://www.tensorflow.org/api_guides/python/contrib.layers) packages for this layer. For more of a challenge, only use other TensorFlow packages.\n",
    "\n",
    "**Note:** Activation, softmax, or cross entropy should **not** be applied to this."
   ]
  },
  {
   "cell_type": "code",
   "execution_count": 64,
   "metadata": {},
   "outputs": [
    {
     "name": "stdout",
     "output_type": "stream",
     "text": [
      "Tests Passed\n"
     ]
    }
   ],
   "source": [
    "def output(x_tensor, num_outputs):\n",
    "    \"\"\"\n",
    "    Apply a output layer to x_tensor using weight and bias\n",
    "    : x_tensor: A 2-D tensor where the first dimension is batch size.\n",
    "    : num_outputs: The number of output that the new tensor should be.\n",
    "    : return: A 2-D tensor where the second dimension is num_outputs.\n",
    "    \"\"\"\n",
    "    # TODO: Implement Function\n",
    "    weights = tf.Variable(tf.truncated_normal([x_tensor.shape[1].value, num_outputs], stddev=0.02))\n",
    "    bias = tf.Variable(tf.zeros(num_outputs))\n",
    "    return tf.add(tf.matmul(x_tensor, weights), bias)\n",
    "\n",
    "\n",
    "\"\"\"\n",
    "DON'T MODIFY ANYTHING IN THIS CELL THAT IS BELOW THIS LINE\n",
    "\"\"\"\n",
    "tests.test_output(output)"
   ]
  },
  {
   "cell_type": "markdown",
   "metadata": {},
   "source": [
    "### Create Convolutional Model\n",
    "Implement the function `conv_net` to create a convolutional neural network model. The function takes in a batch of images, `x`, and outputs logits.  Use the layers you created above to create this model:\n",
    "\n",
    "* Apply 1, 2, or 3 Convolution and Max Pool layers\n",
    "* Apply a Flatten Layer\n",
    "* Apply 1, 2, or 3 Fully Connected Layers\n",
    "* Apply an Output Layer\n",
    "* Return the output\n",
    "* Apply [TensorFlow's Dropout](https://www.tensorflow.org/api_docs/python/tf/nn/dropout) to one or more layers in the model using `keep_prob`. "
   ]
  },
  {
   "cell_type": "code",
   "execution_count": 65,
   "metadata": {},
   "outputs": [
    {
     "name": "stdout",
     "output_type": "stream",
     "text": [
      "Neural Network Built!\n"
     ]
    }
   ],
   "source": [
    "def conv_net(x, keep_prob):\n",
    "    \"\"\"\n",
    "    Create a convolutional neural network model\n",
    "    : x: Placeholder tensor that holds image data.\n",
    "    : keep_prob: Placeholder tensor that hold dropout keep probability.\n",
    "    : return: Tensor that represents logits\n",
    "    \"\"\"\n",
    "    # TODO: Apply 1, 2, or 3 Convolution and Max Pool layers\n",
    "    #    Play around with different number of outputs, kernel size and stride\n",
    "    # Function Definition from Above:\n",
    "    #    conv2d_maxpool(x_tensor, conv_num_outputs, conv_ksize, conv_strides, pool_ksize, pool_strides)\n",
    "    \n",
    "    layer = conv2d_maxpool(x,    32,  (8,8), (1,1), (2,2), (2,2))\n",
    "    layer = conv2d_maxpool(layer, 64,  (4,4), (1,1), (3,3), (2,2))\n",
    "    layer = conv2d_maxpool(layer, 128, (2,2), (1,1), (2,2), (1,1))\n",
    "    \n",
    "\n",
    "    # TODO: Apply a Flatten Layer\n",
    "    # Function Definition from Above:\n",
    "    #   flatten(x_tensor)\n",
    "    layer = flatten(layer)\n",
    "\n",
    "    # TODO: Apply 1, 2, or 3 Fully Connected Layers\n",
    "    #    Play around with different number of outputs\n",
    "    # Function Definition from Above:\n",
    "    #   fully_conn(x_tensor, num_outputs)\n",
    "    layer = fully_conn(layer, 256)\n",
    "    layer = fully_conn(layer, 64)\n",
    "    layer = tf.nn.dropout(layer, keep_prob)\n",
    "    \n",
    "    # TODO: Apply an Output Layer\n",
    "    #    Set this to the number of classes\n",
    "    # Function Definition from Above:\n",
    "    #   output(x_tensor, num_outputs)\n",
    "    result = tf.nn.dropout(output(layer, 10), keep_prob)\n",
    "    \n",
    "    # TODO: return output\n",
    "    return result\n",
    "\n",
    "\n",
    "\"\"\"\n",
    "DON'T MODIFY ANYTHING IN THIS CELL THAT IS BELOW THIS LINE\n",
    "\"\"\"\n",
    "\n",
    "##############################\n",
    "## Build the Neural Network ##\n",
    "##############################\n",
    "\n",
    "# Remove previous weights, bias, inputs, etc..\n",
    "tf.reset_default_graph()\n",
    "\n",
    "# Inputs\n",
    "x = neural_net_image_input((32, 32, 3))\n",
    "y = neural_net_label_input(10)\n",
    "keep_prob = neural_net_keep_prob_input()\n",
    "\n",
    "# Model\n",
    "logits = conv_net(x, keep_prob)\n",
    "\n",
    "# Name logits Tensor, so that is can be loaded from disk after training\n",
    "logits = tf.identity(logits, name='logits')\n",
    "\n",
    "# Loss and Optimizer\n",
    "cost = tf.reduce_mean(tf.nn.softmax_cross_entropy_with_logits(logits=logits, labels=y))\n",
    "optimizer = tf.train.AdamOptimizer().minimize(cost)\n",
    "\n",
    "# Accuracy\n",
    "correct_pred = tf.equal(tf.argmax(logits, 1), tf.argmax(y, 1))\n",
    "accuracy = tf.reduce_mean(tf.cast(correct_pred, tf.float32), name='accuracy')\n",
    "\n",
    "tests.test_conv_net(conv_net)"
   ]
  },
  {
   "cell_type": "markdown",
   "metadata": {},
   "source": [
    "## Train the Neural Network\n",
    "### Single Optimization\n",
    "Implement the function `train_neural_network` to do a single optimization.  The optimization should use `optimizer` to optimize in `session` with a `feed_dict` of the following:\n",
    "* `x` for image input\n",
    "* `y` for labels\n",
    "* `keep_prob` for keep probability for dropout\n",
    "\n",
    "This function will be called for each batch, so `tf.global_variables_initializer()` has already been called.\n",
    "\n",
    "Note: Nothing needs to be returned. This function is only optimizing the neural network."
   ]
  },
  {
   "cell_type": "code",
   "execution_count": 66,
   "metadata": {},
   "outputs": [
    {
     "name": "stdout",
     "output_type": "stream",
     "text": [
      "Tests Passed\n"
     ]
    }
   ],
   "source": [
    "def train_neural_network(session, optimizer, keep_probability, feature_batch, label_batch):\n",
    "    \"\"\"\n",
    "    Optimize the session on a batch of images and labels\n",
    "    : session: Current TensorFlow session\n",
    "    : optimizer: TensorFlow optimizer function\n",
    "    : keep_probability: keep probability\n",
    "    : feature_batch: Batch of Numpy image data\n",
    "    : label_batch: Batch of Numpy label data\n",
    "    \"\"\"\n",
    "    # TODO: Implement Function\n",
    "    session.run(optimizer, feed_dict={x:feature_batch, y:label_batch, keep_prob:keep_probability})\n",
    "\n",
    "\n",
    "\"\"\"\n",
    "DON'T MODIFY ANYTHING IN THIS CELL THAT IS BELOW THIS LINE\n",
    "\"\"\"\n",
    "tests.test_train_nn(train_neural_network)"
   ]
  },
  {
   "cell_type": "markdown",
   "metadata": {},
   "source": [
    "### Show Stats\n",
    "Implement the function `print_stats` to print loss and validation accuracy.  Use the global variables `valid_features` and `valid_labels` to calculate validation accuracy.  Use a keep probability of `1.0` to calculate the loss and validation accuracy."
   ]
  },
  {
   "cell_type": "code",
   "execution_count": 67,
   "metadata": {
    "collapsed": true
   },
   "outputs": [],
   "source": [
    "def print_stats(session, feature_batch, label_batch, cost, accuracy):\n",
    "    \"\"\"\n",
    "    Print information about loss and validation accuracy\n",
    "    : session: Current TensorFlow session\n",
    "    : feature_batch: Batch of Numpy image data\n",
    "    : label_batch: Batch of Numpy label data\n",
    "    : cost: TensorFlow cost function\n",
    "    : accuracy: TensorFlow accuracy function\n",
    "    \"\"\"\n",
    "    # TODO: Implement Function\n",
    "    loss = session.run(cost, feed_dict={x:feature_batch, y:label_batch, keep_prob:1.0})\n",
    "    train_acc = session.run(accuracy, feed_dict={x:feature_batch, y:label_batch, keep_prob:1.0})\n",
    "    valid_acc = session.run(accuracy, feed_dict={x:valid_features, y:valid_labels, keep_prob:1.0})\n",
    "    print('Loss: {:>10.4f} , Training Acc: {:.4f}, Validation Acc: {:.4f}'.format( loss, train_acc, valid_acc))"
   ]
  },
  {
   "cell_type": "markdown",
   "metadata": {},
   "source": [
    "### Hyperparameters\n",
    "Tune the following parameters:\n",
    "* Set `epochs` to the number of iterations until the network stops learning or start overfitting\n",
    "* Set `batch_size` to the highest number that your machine has memory for.  Most people set them to common sizes of memory:\n",
    " * 64\n",
    " * 128\n",
    " * 256\n",
    " * ...\n",
    "* Set `keep_probability` to the probability of keeping a node using dropout"
   ]
  },
  {
   "cell_type": "code",
   "execution_count": 70,
   "metadata": {
    "collapsed": true
   },
   "outputs": [],
   "source": [
    "# TODO: Tune Parameters\n",
    "epochs = 40\n",
    "batch_size = 1024\n",
    "keep_probability = 0.8"
   ]
  },
  {
   "cell_type": "markdown",
   "metadata": {},
   "source": [
    "### Train on a Single CIFAR-10 Batch\n",
    "Instead of training the neural network on all the CIFAR-10 batches of data, let's use a single batch. This should save time while you iterate on the model to get a better accuracy.  Once the final validation accuracy is 50% or greater, run the model on all the data in the next section."
   ]
  },
  {
   "cell_type": "code",
   "execution_count": 71,
   "metadata": {},
   "outputs": [
    {
     "name": "stdout",
     "output_type": "stream",
     "text": [
      "Checking the Training on a Single Batch...\n",
      "Epoch  1, CIFAR-10 Batch 1:  Loss:     2.2456 , Training Acc: 0.1485, Validation Acc: 0.1300\n",
      "Epoch  2, CIFAR-10 Batch 1:  Loss:     2.1636 , Training Acc: 0.1943, Validation Acc: 0.1826\n",
      "Epoch  3, CIFAR-10 Batch 1:  Loss:     2.1051 , Training Acc: 0.2302, Validation Acc: 0.2302\n",
      "Epoch  4, CIFAR-10 Batch 1:  Loss:     2.0352 , Training Acc: 0.2376, Validation Acc: 0.2574\n",
      "Epoch  5, CIFAR-10 Batch 1:  Loss:     1.9968 , Training Acc: 0.2735, Validation Acc: 0.2644\n",
      "Epoch  6, CIFAR-10 Batch 1:  Loss:     1.9294 , Training Acc: 0.2896, Validation Acc: 0.2950\n",
      "Epoch  7, CIFAR-10 Batch 1:  Loss:     1.8651 , Training Acc: 0.3403, Validation Acc: 0.3286\n",
      "Epoch  8, CIFAR-10 Batch 1:  Loss:     1.8372 , Training Acc: 0.3354, Validation Acc: 0.3282\n",
      "Epoch  9, CIFAR-10 Batch 1:  Loss:     1.7864 , Training Acc: 0.3601, Validation Acc: 0.3444\n",
      "Epoch 10, CIFAR-10 Batch 1:  Loss:     1.7389 , Training Acc: 0.3960, Validation Acc: 0.3764\n",
      "Epoch 11, CIFAR-10 Batch 1:  Loss:     1.7353 , Training Acc: 0.3911, Validation Acc: 0.3592\n",
      "Epoch 12, CIFAR-10 Batch 1:  Loss:     1.6668 , Training Acc: 0.4109, Validation Acc: 0.3848\n",
      "Epoch 13, CIFAR-10 Batch 1:  Loss:     1.6278 , Training Acc: 0.4171, Validation Acc: 0.4090\n",
      "Epoch 14, CIFAR-10 Batch 1:  Loss:     1.6050 , Training Acc: 0.4270, Validation Acc: 0.4032\n",
      "Epoch 15, CIFAR-10 Batch 1:  Loss:     1.5814 , Training Acc: 0.4257, Validation Acc: 0.4146\n",
      "Epoch 16, CIFAR-10 Batch 1:  Loss:     1.5635 , Training Acc: 0.4356, Validation Acc: 0.4214\n",
      "Epoch 17, CIFAR-10 Batch 1:  Loss:     1.5114 , Training Acc: 0.4616, Validation Acc: 0.4382\n",
      "Epoch 18, CIFAR-10 Batch 1:  Loss:     1.5034 , Training Acc: 0.4839, Validation Acc: 0.4432\n",
      "Epoch 19, CIFAR-10 Batch 1:  Loss:     1.4913 , Training Acc: 0.4827, Validation Acc: 0.4454\n",
      "Epoch 20, CIFAR-10 Batch 1:  Loss:     1.4562 , Training Acc: 0.4876, Validation Acc: 0.4548\n",
      "Epoch 21, CIFAR-10 Batch 1:  Loss:     1.4337 , Training Acc: 0.5025, Validation Acc: 0.4588\n",
      "Epoch 22, CIFAR-10 Batch 1:  Loss:     1.4126 , Training Acc: 0.5198, Validation Acc: 0.4626\n",
      "Epoch 23, CIFAR-10 Batch 1:  Loss:     1.3850 , Training Acc: 0.5124, Validation Acc: 0.4690\n",
      "Epoch 24, CIFAR-10 Batch 1:  Loss:     1.4149 , Training Acc: 0.5099, Validation Acc: 0.4520\n",
      "Epoch 25, CIFAR-10 Batch 1:  Loss:     1.4085 , Training Acc: 0.5210, Validation Acc: 0.4558\n",
      "Epoch 26, CIFAR-10 Batch 1:  Loss:     1.3460 , Training Acc: 0.5149, Validation Acc: 0.4800\n",
      "Epoch 27, CIFAR-10 Batch 1:  Loss:     1.3245 , Training Acc: 0.5297, Validation Acc: 0.4850\n",
      "Epoch 28, CIFAR-10 Batch 1:  Loss:     1.3056 , Training Acc: 0.5396, Validation Acc: 0.4868\n",
      "Epoch 29, CIFAR-10 Batch 1:  Loss:     1.3085 , Training Acc: 0.5458, Validation Acc: 0.4834\n",
      "Epoch 30, CIFAR-10 Batch 1:  Loss:     1.2914 , Training Acc: 0.5396, Validation Acc: 0.4828\n",
      "Epoch 31, CIFAR-10 Batch 1:  Loss:     1.2929 , Training Acc: 0.5557, Validation Acc: 0.4916\n",
      "Epoch 32, CIFAR-10 Batch 1:  Loss:     1.2242 , Training Acc: 0.5681, Validation Acc: 0.5020\n",
      "Epoch 33, CIFAR-10 Batch 1:  Loss:     1.2706 , Training Acc: 0.5483, Validation Acc: 0.4858\n",
      "Epoch 34, CIFAR-10 Batch 1:  Loss:     1.2333 , Training Acc: 0.5829, Validation Acc: 0.5080\n",
      "Epoch 35, CIFAR-10 Batch 1:  Loss:     1.2097 , Training Acc: 0.5792, Validation Acc: 0.5048\n",
      "Epoch 36, CIFAR-10 Batch 1:  Loss:     1.1650 , Training Acc: 0.6052, Validation Acc: 0.5136\n",
      "Epoch 37, CIFAR-10 Batch 1:  Loss:     1.1768 , Training Acc: 0.6015, Validation Acc: 0.5044\n",
      "Epoch 38, CIFAR-10 Batch 1:  Loss:     1.1415 , Training Acc: 0.6262, Validation Acc: 0.5224\n",
      "Epoch 39, CIFAR-10 Batch 1:  Loss:     1.1138 , Training Acc: 0.6250, Validation Acc: 0.5240\n",
      "Epoch 40, CIFAR-10 Batch 1:  Loss:     1.1259 , Training Acc: 0.6324, Validation Acc: 0.5234\n"
     ]
    }
   ],
   "source": [
    "\"\"\"\n",
    "DON'T MODIFY ANYTHING IN THIS CELL\n",
    "\"\"\"\n",
    "print('Checking the Training on a Single Batch...')\n",
    "with tf.Session() as sess:\n",
    "    # Initializing the variables\n",
    "    sess.run(tf.global_variables_initializer())\n",
    "    \n",
    "    # Training cycle\n",
    "    for epoch in range(epochs):\n",
    "        batch_i = 1\n",
    "        for batch_features, batch_labels in helper.load_preprocess_training_batch(batch_i, batch_size):\n",
    "            train_neural_network(sess, optimizer, keep_probability, batch_features, batch_labels)\n",
    "        print('Epoch {:>2}, CIFAR-10 Batch {}:  '.format(epoch + 1, batch_i), end='')\n",
    "        print_stats(sess, batch_features, batch_labels, cost, accuracy)"
   ]
  },
  {
   "cell_type": "markdown",
   "metadata": {},
   "source": [
    "### Fully Train the Model\n",
    "Now that you got a good accuracy with a single CIFAR-10 batch, try it with all five batches."
   ]
  },
  {
   "cell_type": "code",
   "execution_count": 72,
   "metadata": {},
   "outputs": [
    {
     "name": "stdout",
     "output_type": "stream",
     "text": [
      "Training...\n",
      "Epoch  1, CIFAR-10 Batch 1:  Loss:     2.2809 , Training Acc: 0.1708, Validation Acc: 0.1876\n",
      "Epoch  1, CIFAR-10 Batch 2:  Loss:     2.1353 , Training Acc: 0.2054, Validation Acc: 0.2010\n",
      "Epoch  1, CIFAR-10 Batch 3:  Loss:     2.0725 , Training Acc: 0.2438, Validation Acc: 0.2382\n",
      "Epoch  1, CIFAR-10 Batch 4:  Loss:     1.9942 , Training Acc: 0.2908, Validation Acc: 0.2552\n",
      "Epoch  1, CIFAR-10 Batch 5:  Loss:     1.9405 , Training Acc: 0.2834, Validation Acc: 0.2728\n",
      "Epoch  2, CIFAR-10 Batch 1:  Loss:     1.9374 , Training Acc: 0.2908, Validation Acc: 0.2880\n",
      "Epoch  2, CIFAR-10 Batch 2:  Loss:     1.8678 , Training Acc: 0.3181, Validation Acc: 0.3218\n",
      "Epoch  2, CIFAR-10 Batch 3:  Loss:     1.8043 , Training Acc: 0.3639, Validation Acc: 0.3336\n",
      "Epoch  2, CIFAR-10 Batch 4:  Loss:     1.7499 , Training Acc: 0.3700, Validation Acc: 0.3586\n",
      "Epoch  2, CIFAR-10 Batch 5:  Loss:     1.7569 , Training Acc: 0.3465, Validation Acc: 0.3738\n",
      "Epoch  3, CIFAR-10 Batch 1:  Loss:     1.7085 , Training Acc: 0.3936, Validation Acc: 0.3640\n",
      "Epoch  3, CIFAR-10 Batch 2:  Loss:     1.7114 , Training Acc: 0.3923, Validation Acc: 0.3948\n",
      "Epoch  3, CIFAR-10 Batch 3:  Loss:     1.6043 , Training Acc: 0.4381, Validation Acc: 0.4050\n",
      "Epoch  3, CIFAR-10 Batch 4:  Loss:     1.6117 , Training Acc: 0.4097, Validation Acc: 0.4026\n",
      "Epoch  3, CIFAR-10 Batch 5:  Loss:     1.6306 , Training Acc: 0.3998, Validation Acc: 0.4044\n",
      "Epoch  4, CIFAR-10 Batch 1:  Loss:     1.5810 , Training Acc: 0.4356, Validation Acc: 0.4164\n",
      "Epoch  4, CIFAR-10 Batch 2:  Loss:     1.5716 , Training Acc: 0.4480, Validation Acc: 0.4316\n",
      "Epoch  4, CIFAR-10 Batch 3:  Loss:     1.4953 , Training Acc: 0.4839, Validation Acc: 0.4340\n",
      "Epoch  4, CIFAR-10 Batch 4:  Loss:     1.5040 , Training Acc: 0.4394, Validation Acc: 0.4410\n",
      "Epoch  4, CIFAR-10 Batch 5:  Loss:     1.5483 , Training Acc: 0.4406, Validation Acc: 0.4380\n",
      "Epoch  5, CIFAR-10 Batch 1:  Loss:     1.4893 , Training Acc: 0.4530, Validation Acc: 0.4534\n",
      "Epoch  5, CIFAR-10 Batch 2:  Loss:     1.5107 , Training Acc: 0.4666, Validation Acc: 0.4436\n",
      "Epoch  5, CIFAR-10 Batch 3:  Loss:     1.4380 , Training Acc: 0.5087, Validation Acc: 0.4492\n",
      "Epoch  5, CIFAR-10 Batch 4:  Loss:     1.4472 , Training Acc: 0.4616, Validation Acc: 0.4548\n",
      "Epoch  5, CIFAR-10 Batch 5:  Loss:     1.4909 , Training Acc: 0.4728, Validation Acc: 0.4506\n",
      "Epoch  6, CIFAR-10 Batch 1:  Loss:     1.4686 , Training Acc: 0.4567, Validation Acc: 0.4544\n",
      "Epoch  6, CIFAR-10 Batch 2:  Loss:     1.4661 , Training Acc: 0.4802, Validation Acc: 0.4734\n",
      "Epoch  6, CIFAR-10 Batch 3:  Loss:     1.3718 , Training Acc: 0.5260, Validation Acc: 0.4718\n",
      "Epoch  6, CIFAR-10 Batch 4:  Loss:     1.3794 , Training Acc: 0.4889, Validation Acc: 0.4790\n",
      "Epoch  6, CIFAR-10 Batch 5:  Loss:     1.4235 , Training Acc: 0.5050, Validation Acc: 0.4718\n",
      "Epoch  7, CIFAR-10 Batch 1:  Loss:     1.3620 , Training Acc: 0.5149, Validation Acc: 0.4932\n",
      "Epoch  7, CIFAR-10 Batch 2:  Loss:     1.4405 , Training Acc: 0.5099, Validation Acc: 0.4852\n",
      "Epoch  7, CIFAR-10 Batch 3:  Loss:     1.2976 , Training Acc: 0.5495, Validation Acc: 0.4982\n",
      "Epoch  7, CIFAR-10 Batch 4:  Loss:     1.3390 , Training Acc: 0.5248, Validation Acc: 0.4922\n",
      "Epoch  7, CIFAR-10 Batch 5:  Loss:     1.3684 , Training Acc: 0.5062, Validation Acc: 0.4920\n",
      "Epoch  8, CIFAR-10 Batch 1:  Loss:     1.3326 , Training Acc: 0.5359, Validation Acc: 0.5026\n",
      "Epoch  8, CIFAR-10 Batch 2:  Loss:     1.3711 , Training Acc: 0.5186, Validation Acc: 0.5002\n",
      "Epoch  8, CIFAR-10 Batch 3:  Loss:     1.2570 , Training Acc: 0.5619, Validation Acc: 0.5156\n",
      "Epoch  8, CIFAR-10 Batch 4:  Loss:     1.2741 , Training Acc: 0.5470, Validation Acc: 0.5116\n",
      "Epoch  8, CIFAR-10 Batch 5:  Loss:     1.3129 , Training Acc: 0.5495, Validation Acc: 0.5118\n",
      "Epoch  9, CIFAR-10 Batch 1:  Loss:     1.2509 , Training Acc: 0.5681, Validation Acc: 0.5268\n",
      "Epoch  9, CIFAR-10 Batch 2:  Loss:     1.3395 , Training Acc: 0.5297, Validation Acc: 0.5240\n",
      "Epoch  9, CIFAR-10 Batch 3:  Loss:     1.2133 , Training Acc: 0.5817, Validation Acc: 0.5316\n",
      "Epoch  9, CIFAR-10 Batch 4:  Loss:     1.2288 , Training Acc: 0.5743, Validation Acc: 0.5248\n",
      "Epoch  9, CIFAR-10 Batch 5:  Loss:     1.2484 , Training Acc: 0.5557, Validation Acc: 0.5400\n",
      "Epoch 10, CIFAR-10 Batch 1:  Loss:     1.2458 , Training Acc: 0.5780, Validation Acc: 0.5308\n",
      "Epoch 10, CIFAR-10 Batch 2:  Loss:     1.2490 , Training Acc: 0.5743, Validation Acc: 0.5456\n",
      "Epoch 10, CIFAR-10 Batch 3:  Loss:     1.1860 , Training Acc: 0.5928, Validation Acc: 0.5466\n",
      "Epoch 10, CIFAR-10 Batch 4:  Loss:     1.1720 , Training Acc: 0.5681, Validation Acc: 0.5436\n",
      "Epoch 10, CIFAR-10 Batch 5:  Loss:     1.1947 , Training Acc: 0.5953, Validation Acc: 0.5516\n",
      "Epoch 11, CIFAR-10 Batch 1:  Loss:     1.1885 , Training Acc: 0.6188, Validation Acc: 0.5556\n",
      "Epoch 11, CIFAR-10 Batch 2:  Loss:     1.2252 , Training Acc: 0.5866, Validation Acc: 0.5416\n",
      "Epoch 11, CIFAR-10 Batch 3:  Loss:     1.1396 , Training Acc: 0.6089, Validation Acc: 0.5580\n",
      "Epoch 11, CIFAR-10 Batch 4:  Loss:     1.1271 , Training Acc: 0.6052, Validation Acc: 0.5576\n",
      "Epoch 11, CIFAR-10 Batch 5:  Loss:     1.1792 , Training Acc: 0.5978, Validation Acc: 0.5578\n",
      "Epoch 12, CIFAR-10 Batch 1:  Loss:     1.1521 , Training Acc: 0.6163, Validation Acc: 0.5628\n",
      "Epoch 12, CIFAR-10 Batch 2:  Loss:     1.1978 , Training Acc: 0.5916, Validation Acc: 0.5630\n",
      "Epoch 12, CIFAR-10 Batch 3:  Loss:     1.0980 , Training Acc: 0.6200, Validation Acc: 0.5664\n",
      "Epoch 12, CIFAR-10 Batch 4:  Loss:     1.1200 , Training Acc: 0.6188, Validation Acc: 0.5730\n",
      "Epoch 12, CIFAR-10 Batch 5:  Loss:     1.1371 , Training Acc: 0.6139, Validation Acc: 0.5734\n",
      "Epoch 13, CIFAR-10 Batch 1:  Loss:     1.1325 , Training Acc: 0.6176, Validation Acc: 0.5698\n",
      "Epoch 13, CIFAR-10 Batch 2:  Loss:     1.1346 , Training Acc: 0.6238, Validation Acc: 0.5710\n",
      "Epoch 13, CIFAR-10 Batch 3:  Loss:     1.0351 , Training Acc: 0.6621, Validation Acc: 0.5864\n",
      "Epoch 13, CIFAR-10 Batch 4:  Loss:     1.0623 , Training Acc: 0.6349, Validation Acc: 0.5846\n",
      "Epoch 13, CIFAR-10 Batch 5:  Loss:     1.0810 , Training Acc: 0.6374, Validation Acc: 0.5836\n",
      "Epoch 14, CIFAR-10 Batch 1:  Loss:     1.0841 , Training Acc: 0.6386, Validation Acc: 0.5906\n",
      "Epoch 14, CIFAR-10 Batch 2:  Loss:     1.0758 , Training Acc: 0.6411, Validation Acc: 0.5958\n",
      "Epoch 14, CIFAR-10 Batch 3:  Loss:     0.9930 , Training Acc: 0.6696, Validation Acc: 0.6000\n",
      "Epoch 14, CIFAR-10 Batch 4:  Loss:     1.0460 , Training Acc: 0.6275, Validation Acc: 0.5934\n",
      "Epoch 14, CIFAR-10 Batch 5:  Loss:     1.0551 , Training Acc: 0.6485, Validation Acc: 0.5832\n",
      "Epoch 15, CIFAR-10 Batch 1:  Loss:     1.0311 , Training Acc: 0.6522, Validation Acc: 0.6024\n",
      "Epoch 15, CIFAR-10 Batch 2:  Loss:     1.0443 , Training Acc: 0.6374, Validation Acc: 0.6008\n",
      "Epoch 15, CIFAR-10 Batch 3:  Loss:     0.9718 , Training Acc: 0.6733, Validation Acc: 0.6098\n",
      "Epoch 15, CIFAR-10 Batch 4:  Loss:     1.0221 , Training Acc: 0.6547, Validation Acc: 0.6044\n",
      "Epoch 15, CIFAR-10 Batch 5:  Loss:     1.0071 , Training Acc: 0.6646, Validation Acc: 0.6094\n",
      "Epoch 16, CIFAR-10 Batch 1:  Loss:     0.9920 , Training Acc: 0.6696, Validation Acc: 0.6118\n",
      "Epoch 16, CIFAR-10 Batch 2:  Loss:     1.0000 , Training Acc: 0.6535, Validation Acc: 0.6154\n",
      "Epoch 16, CIFAR-10 Batch 3:  Loss:     0.9423 , Training Acc: 0.6770, Validation Acc: 0.6216\n",
      "Epoch 16, CIFAR-10 Batch 4:  Loss:     0.9751 , Training Acc: 0.6572, Validation Acc: 0.6140\n",
      "Epoch 16, CIFAR-10 Batch 5:  Loss:     0.9677 , Training Acc: 0.6795, Validation Acc: 0.6040\n",
      "Epoch 17, CIFAR-10 Batch 1:  Loss:     0.9699 , Training Acc: 0.6535, Validation Acc: 0.6158\n",
      "Epoch 17, CIFAR-10 Batch 2:  Loss:     1.0077 , Training Acc: 0.6671, Validation Acc: 0.6124\n",
      "Epoch 17, CIFAR-10 Batch 3:  Loss:     0.9212 , Training Acc: 0.6906, Validation Acc: 0.6224\n",
      "Epoch 17, CIFAR-10 Batch 4:  Loss:     0.9549 , Training Acc: 0.6658, Validation Acc: 0.6230\n",
      "Epoch 17, CIFAR-10 Batch 5:  Loss:     0.9299 , Training Acc: 0.6881, Validation Acc: 0.6204\n",
      "Epoch 18, CIFAR-10 Batch 1:  Loss:     0.9040 , Training Acc: 0.6894, Validation Acc: 0.6358\n",
      "Epoch 18, CIFAR-10 Batch 2:  Loss:     0.9472 , Training Acc: 0.6819, Validation Acc: 0.6304\n",
      "Epoch 18, CIFAR-10 Batch 3:  Loss:     0.8629 , Training Acc: 0.7104, Validation Acc: 0.6370\n"
     ]
    },
    {
     "name": "stdout",
     "output_type": "stream",
     "text": [
      "Epoch 18, CIFAR-10 Batch 4:  Loss:     0.9106 , Training Acc: 0.6906, Validation Acc: 0.6360\n",
      "Epoch 18, CIFAR-10 Batch 5:  Loss:     0.9051 , Training Acc: 0.7042, Validation Acc: 0.6260\n",
      "Epoch 19, CIFAR-10 Batch 1:  Loss:     0.9073 , Training Acc: 0.6993, Validation Acc: 0.6250\n",
      "Epoch 19, CIFAR-10 Batch 2:  Loss:     0.9543 , Training Acc: 0.6819, Validation Acc: 0.6310\n",
      "Epoch 19, CIFAR-10 Batch 3:  Loss:     0.8497 , Training Acc: 0.7017, Validation Acc: 0.6438\n",
      "Epoch 19, CIFAR-10 Batch 4:  Loss:     0.9014 , Training Acc: 0.7030, Validation Acc: 0.6308\n",
      "Epoch 19, CIFAR-10 Batch 5:  Loss:     0.8623 , Training Acc: 0.7153, Validation Acc: 0.6336\n",
      "Epoch 20, CIFAR-10 Batch 1:  Loss:     0.8405 , Training Acc: 0.7265, Validation Acc: 0.6492\n",
      "Epoch 20, CIFAR-10 Batch 2:  Loss:     0.8804 , Training Acc: 0.7129, Validation Acc: 0.6498\n",
      "Epoch 20, CIFAR-10 Batch 3:  Loss:     0.8091 , Training Acc: 0.7203, Validation Acc: 0.6422\n",
      "Epoch 20, CIFAR-10 Batch 4:  Loss:     0.8422 , Training Acc: 0.7054, Validation Acc: 0.6454\n",
      "Epoch 20, CIFAR-10 Batch 5:  Loss:     0.8300 , Training Acc: 0.7265, Validation Acc: 0.6476\n",
      "Epoch 21, CIFAR-10 Batch 1:  Loss:     0.8176 , Training Acc: 0.7228, Validation Acc: 0.6530\n",
      "Epoch 21, CIFAR-10 Batch 2:  Loss:     0.8599 , Training Acc: 0.7178, Validation Acc: 0.6524\n",
      "Epoch 21, CIFAR-10 Batch 3:  Loss:     0.7923 , Training Acc: 0.7277, Validation Acc: 0.6518\n",
      "Epoch 21, CIFAR-10 Batch 4:  Loss:     0.8122 , Training Acc: 0.7153, Validation Acc: 0.6574\n",
      "Epoch 21, CIFAR-10 Batch 5:  Loss:     0.7855 , Training Acc: 0.7240, Validation Acc: 0.6596\n",
      "Epoch 22, CIFAR-10 Batch 1:  Loss:     0.7636 , Training Acc: 0.7351, Validation Acc: 0.6532\n",
      "Epoch 22, CIFAR-10 Batch 2:  Loss:     0.8422 , Training Acc: 0.7314, Validation Acc: 0.6590\n",
      "Epoch 22, CIFAR-10 Batch 3:  Loss:     0.7733 , Training Acc: 0.7314, Validation Acc: 0.6568\n",
      "Epoch 22, CIFAR-10 Batch 4:  Loss:     0.7878 , Training Acc: 0.7228, Validation Acc: 0.6538\n",
      "Epoch 22, CIFAR-10 Batch 5:  Loss:     0.7647 , Training Acc: 0.7376, Validation Acc: 0.6596\n",
      "Epoch 23, CIFAR-10 Batch 1:  Loss:     0.7727 , Training Acc: 0.7215, Validation Acc: 0.6558\n",
      "Epoch 23, CIFAR-10 Batch 2:  Loss:     0.8194 , Training Acc: 0.7314, Validation Acc: 0.6654\n",
      "Epoch 23, CIFAR-10 Batch 3:  Loss:     0.7438 , Training Acc: 0.7488, Validation Acc: 0.6662\n",
      "Epoch 23, CIFAR-10 Batch 4:  Loss:     0.7544 , Training Acc: 0.7488, Validation Acc: 0.6658\n",
      "Epoch 23, CIFAR-10 Batch 5:  Loss:     0.7324 , Training Acc: 0.7475, Validation Acc: 0.6654\n",
      "Epoch 24, CIFAR-10 Batch 1:  Loss:     0.7296 , Training Acc: 0.7500, Validation Acc: 0.6674\n",
      "Epoch 24, CIFAR-10 Batch 2:  Loss:     0.8443 , Training Acc: 0.7252, Validation Acc: 0.6508\n",
      "Epoch 24, CIFAR-10 Batch 3:  Loss:     0.7470 , Training Acc: 0.7438, Validation Acc: 0.6606\n",
      "Epoch 24, CIFAR-10 Batch 4:  Loss:     0.7616 , Training Acc: 0.7376, Validation Acc: 0.6686\n",
      "Epoch 24, CIFAR-10 Batch 5:  Loss:     0.6941 , Training Acc: 0.7438, Validation Acc: 0.6750\n",
      "Epoch 25, CIFAR-10 Batch 1:  Loss:     0.7166 , Training Acc: 0.7500, Validation Acc: 0.6688\n",
      "Epoch 25, CIFAR-10 Batch 2:  Loss:     0.8079 , Training Acc: 0.7364, Validation Acc: 0.6560\n",
      "Epoch 25, CIFAR-10 Batch 3:  Loss:     0.7162 , Training Acc: 0.7426, Validation Acc: 0.6758\n",
      "Epoch 25, CIFAR-10 Batch 4:  Loss:     0.7387 , Training Acc: 0.7438, Validation Acc: 0.6638\n",
      "Epoch 25, CIFAR-10 Batch 5:  Loss:     0.6773 , Training Acc: 0.7748, Validation Acc: 0.6728\n",
      "Epoch 26, CIFAR-10 Batch 1:  Loss:     0.7541 , Training Acc: 0.7450, Validation Acc: 0.6536\n",
      "Epoch 26, CIFAR-10 Batch 2:  Loss:     0.7387 , Training Acc: 0.7488, Validation Acc: 0.6772\n",
      "Epoch 26, CIFAR-10 Batch 3:  Loss:     0.6818 , Training Acc: 0.7698, Validation Acc: 0.6850\n",
      "Epoch 26, CIFAR-10 Batch 4:  Loss:     0.6620 , Training Acc: 0.7735, Validation Acc: 0.6878\n",
      "Epoch 26, CIFAR-10 Batch 5:  Loss:     0.6582 , Training Acc: 0.7686, Validation Acc: 0.6736\n",
      "Epoch 27, CIFAR-10 Batch 1:  Loss:     0.6478 , Training Acc: 0.7748, Validation Acc: 0.6856\n",
      "Epoch 27, CIFAR-10 Batch 2:  Loss:     0.7243 , Training Acc: 0.7562, Validation Acc: 0.6716\n",
      "Epoch 27, CIFAR-10 Batch 3:  Loss:     0.6479 , Training Acc: 0.7871, Validation Acc: 0.6732\n",
      "Epoch 27, CIFAR-10 Batch 4:  Loss:     0.6553 , Training Acc: 0.7723, Validation Acc: 0.6782\n",
      "Epoch 27, CIFAR-10 Batch 5:  Loss:     0.6150 , Training Acc: 0.7908, Validation Acc: 0.6864\n",
      "Epoch 28, CIFAR-10 Batch 1:  Loss:     0.6503 , Training Acc: 0.7847, Validation Acc: 0.6816\n",
      "Epoch 28, CIFAR-10 Batch 2:  Loss:     0.7205 , Training Acc: 0.7599, Validation Acc: 0.6784\n",
      "Epoch 28, CIFAR-10 Batch 3:  Loss:     0.6353 , Training Acc: 0.7834, Validation Acc: 0.6836\n",
      "Epoch 28, CIFAR-10 Batch 4:  Loss:     0.6574 , Training Acc: 0.7908, Validation Acc: 0.6758\n",
      "Epoch 28, CIFAR-10 Batch 5:  Loss:     0.6448 , Training Acc: 0.7735, Validation Acc: 0.6740\n",
      "Epoch 29, CIFAR-10 Batch 1:  Loss:     0.6348 , Training Acc: 0.7946, Validation Acc: 0.6832\n",
      "Epoch 29, CIFAR-10 Batch 2:  Loss:     0.7522 , Training Acc: 0.7401, Validation Acc: 0.6604\n",
      "Epoch 29, CIFAR-10 Batch 3:  Loss:     0.6415 , Training Acc: 0.7896, Validation Acc: 0.6768\n",
      "Epoch 29, CIFAR-10 Batch 4:  Loss:     0.6284 , Training Acc: 0.7871, Validation Acc: 0.6762\n",
      "Epoch 29, CIFAR-10 Batch 5:  Loss:     0.6126 , Training Acc: 0.7995, Validation Acc: 0.6806\n",
      "Epoch 30, CIFAR-10 Batch 1:  Loss:     0.6104 , Training Acc: 0.7822, Validation Acc: 0.6864\n",
      "Epoch 30, CIFAR-10 Batch 2:  Loss:     0.6918 , Training Acc: 0.7735, Validation Acc: 0.6810\n",
      "Epoch 30, CIFAR-10 Batch 3:  Loss:     0.6306 , Training Acc: 0.7896, Validation Acc: 0.6694\n",
      "Epoch 30, CIFAR-10 Batch 4:  Loss:     0.6197 , Training Acc: 0.7884, Validation Acc: 0.6816\n",
      "Epoch 30, CIFAR-10 Batch 5:  Loss:     0.5644 , Training Acc: 0.7946, Validation Acc: 0.6908\n",
      "Epoch 31, CIFAR-10 Batch 1:  Loss:     0.5731 , Training Acc: 0.8181, Validation Acc: 0.6880\n",
      "Epoch 31, CIFAR-10 Batch 2:  Loss:     0.6400 , Training Acc: 0.7970, Validation Acc: 0.6946\n",
      "Epoch 31, CIFAR-10 Batch 3:  Loss:     0.6014 , Training Acc: 0.7995, Validation Acc: 0.6788\n",
      "Epoch 31, CIFAR-10 Batch 4:  Loss:     0.5892 , Training Acc: 0.8045, Validation Acc: 0.6858\n",
      "Epoch 31, CIFAR-10 Batch 5:  Loss:     0.5634 , Training Acc: 0.8007, Validation Acc: 0.6940\n",
      "Epoch 32, CIFAR-10 Batch 1:  Loss:     0.5725 , Training Acc: 0.8342, Validation Acc: 0.6900\n",
      "Epoch 32, CIFAR-10 Batch 2:  Loss:     0.6129 , Training Acc: 0.7921, Validation Acc: 0.6958\n",
      "Epoch 32, CIFAR-10 Batch 3:  Loss:     0.5419 , Training Acc: 0.8119, Validation Acc: 0.6906\n",
      "Epoch 32, CIFAR-10 Batch 4:  Loss:     0.5553 , Training Acc: 0.8069, Validation Acc: 0.6912\n",
      "Epoch 32, CIFAR-10 Batch 5:  Loss:     0.5351 , Training Acc: 0.8267, Validation Acc: 0.6978\n",
      "Epoch 33, CIFAR-10 Batch 1:  Loss:     0.5347 , Training Acc: 0.8379, Validation Acc: 0.7002\n",
      "Epoch 33, CIFAR-10 Batch 2:  Loss:     0.5601 , Training Acc: 0.8181, Validation Acc: 0.7030\n",
      "Epoch 33, CIFAR-10 Batch 3:  Loss:     0.5205 , Training Acc: 0.8193, Validation Acc: 0.6940\n",
      "Epoch 33, CIFAR-10 Batch 4:  Loss:     0.5109 , Training Acc: 0.8342, Validation Acc: 0.7022\n",
      "Epoch 33, CIFAR-10 Batch 5:  Loss:     0.4899 , Training Acc: 0.8391, Validation Acc: 0.7048\n",
      "Epoch 34, CIFAR-10 Batch 1:  Loss:     0.5406 , Training Acc: 0.8354, Validation Acc: 0.6916\n",
      "Epoch 34, CIFAR-10 Batch 2:  Loss:     0.5413 , Training Acc: 0.8292, Validation Acc: 0.7050\n",
      "Epoch 34, CIFAR-10 Batch 3:  Loss:     0.5039 , Training Acc: 0.8342, Validation Acc: 0.6964\n",
      "Epoch 34, CIFAR-10 Batch 4:  Loss:     0.4916 , Training Acc: 0.8366, Validation Acc: 0.6998\n",
      "Epoch 34, CIFAR-10 Batch 5:  Loss:     0.4619 , Training Acc: 0.8465, Validation Acc: 0.7084\n",
      "Epoch 35, CIFAR-10 Batch 1:  Loss:     0.4857 , Training Acc: 0.8515, Validation Acc: 0.6988\n",
      "Epoch 35, CIFAR-10 Batch 2:  Loss:     0.5058 , Training Acc: 0.8342, Validation Acc: 0.7040\n",
      "Epoch 35, CIFAR-10 Batch 3:  Loss:     0.4806 , Training Acc: 0.8354, Validation Acc: 0.7014\n",
      "Epoch 35, CIFAR-10 Batch 4:  Loss:     0.4711 , Training Acc: 0.8428, Validation Acc: 0.6962\n",
      "Epoch 35, CIFAR-10 Batch 5:  Loss:     0.4806 , Training Acc: 0.8366, Validation Acc: 0.7018\n",
      "Epoch 36, CIFAR-10 Batch 1:  Loss:     0.4635 , Training Acc: 0.8441, Validation Acc: 0.7028\n"
     ]
    },
    {
     "name": "stdout",
     "output_type": "stream",
     "text": [
      "Epoch 36, CIFAR-10 Batch 2:  Loss:     0.5140 , Training Acc: 0.8329, Validation Acc: 0.7008\n",
      "Epoch 36, CIFAR-10 Batch 3:  Loss:     0.5242 , Training Acc: 0.8230, Validation Acc: 0.6930\n",
      "Epoch 36, CIFAR-10 Batch 4:  Loss:     0.4909 , Training Acc: 0.8304, Validation Acc: 0.6934\n",
      "Epoch 36, CIFAR-10 Batch 5:  Loss:     0.4371 , Training Acc: 0.8651, Validation Acc: 0.7054\n",
      "Epoch 37, CIFAR-10 Batch 1:  Loss:     0.4724 , Training Acc: 0.8441, Validation Acc: 0.6982\n",
      "Epoch 37, CIFAR-10 Batch 2:  Loss:     0.5387 , Training Acc: 0.8230, Validation Acc: 0.6960\n",
      "Epoch 37, CIFAR-10 Batch 3:  Loss:     0.4983 , Training Acc: 0.8205, Validation Acc: 0.6836\n",
      "Epoch 37, CIFAR-10 Batch 4:  Loss:     0.5081 , Training Acc: 0.8416, Validation Acc: 0.6892\n",
      "Epoch 37, CIFAR-10 Batch 5:  Loss:     0.4460 , Training Acc: 0.8663, Validation Acc: 0.7122\n",
      "Epoch 38, CIFAR-10 Batch 1:  Loss:     0.4345 , Training Acc: 0.8626, Validation Acc: 0.7104\n",
      "Epoch 38, CIFAR-10 Batch 2:  Loss:     0.5066 , Training Acc: 0.8342, Validation Acc: 0.7020\n",
      "Epoch 38, CIFAR-10 Batch 3:  Loss:     0.4295 , Training Acc: 0.8601, Validation Acc: 0.6978\n",
      "Epoch 38, CIFAR-10 Batch 4:  Loss:     0.4827 , Training Acc: 0.8453, Validation Acc: 0.6798\n",
      "Epoch 38, CIFAR-10 Batch 5:  Loss:     0.4442 , Training Acc: 0.8564, Validation Acc: 0.7066\n",
      "Epoch 39, CIFAR-10 Batch 1:  Loss:     0.4271 , Training Acc: 0.8651, Validation Acc: 0.7124\n",
      "Epoch 39, CIFAR-10 Batch 2:  Loss:     0.4481 , Training Acc: 0.8614, Validation Acc: 0.7052\n",
      "Epoch 39, CIFAR-10 Batch 3:  Loss:     0.4063 , Training Acc: 0.8540, Validation Acc: 0.7038\n",
      "Epoch 39, CIFAR-10 Batch 4:  Loss:     0.4353 , Training Acc: 0.8614, Validation Acc: 0.6888\n",
      "Epoch 39, CIFAR-10 Batch 5:  Loss:     0.3912 , Training Acc: 0.8713, Validation Acc: 0.7122\n",
      "Epoch 40, CIFAR-10 Batch 1:  Loss:     0.4219 , Training Acc: 0.8738, Validation Acc: 0.7026\n",
      "Epoch 40, CIFAR-10 Batch 2:  Loss:     0.4418 , Training Acc: 0.8601, Validation Acc: 0.7024\n",
      "Epoch 40, CIFAR-10 Batch 3:  Loss:     0.4135 , Training Acc: 0.8676, Validation Acc: 0.7058\n",
      "Epoch 40, CIFAR-10 Batch 4:  Loss:     0.3795 , Training Acc: 0.8787, Validation Acc: 0.6948\n",
      "Epoch 40, CIFAR-10 Batch 5:  Loss:     0.3945 , Training Acc: 0.8725, Validation Acc: 0.7042\n"
     ]
    }
   ],
   "source": [
    "\"\"\"\n",
    "DON'T MODIFY ANYTHING IN THIS CELL\n",
    "\"\"\"\n",
    "save_model_path = './image_classification'\n",
    "\n",
    "print('Training...')\n",
    "with tf.Session() as sess:\n",
    "    # Initializing the variables\n",
    "    sess.run(tf.global_variables_initializer())\n",
    "    \n",
    "    # Training cycle\n",
    "    for epoch in range(epochs):\n",
    "        # Loop over all batches\n",
    "        n_batches = 5\n",
    "        for batch_i in range(1, n_batches + 1):\n",
    "            for batch_features, batch_labels in helper.load_preprocess_training_batch(batch_i, batch_size):\n",
    "                train_neural_network(sess, optimizer, keep_probability, batch_features, batch_labels)\n",
    "            print('Epoch {:>2}, CIFAR-10 Batch {}:  '.format(epoch + 1, batch_i), end='')\n",
    "            print_stats(sess, batch_features, batch_labels, cost, accuracy)\n",
    "            \n",
    "    # Save Model\n",
    "    saver = tf.train.Saver()\n",
    "    save_path = saver.save(sess, save_model_path)"
   ]
  },
  {
   "cell_type": "markdown",
   "metadata": {},
   "source": [
    "# Checkpoint\n",
    "The model has been saved to disk.\n",
    "## Test Model\n",
    "Test your model against the test dataset.  This will be your final accuracy. You should have an accuracy greater than 50%. If you don't, keep tweaking the model architecture and parameters."
   ]
  },
  {
   "cell_type": "code",
   "execution_count": 73,
   "metadata": {},
   "outputs": [
    {
     "name": "stdout",
     "output_type": "stream",
     "text": [
      "INFO:tensorflow:Restoring parameters from ./image_classification\n",
      "Testing Accuracy: 0.6925581932067871\n",
      "\n"
     ]
    },
    {
     "data": {
      "image/png": "[encoded data removed]",
      "text/plain": [
       "<matplotlib.figure.Figure at 0x125716438>"
      ]
     },
     "metadata": {
      "image/png": {
       "height": 319,
       "width": 355
      }
     },
     "output_type": "display_data"
    }
   ],
   "source": [
    "\"\"\"\n",
    "DON'T MODIFY ANYTHING IN THIS CELL\n",
    "\"\"\"\n",
    "%matplotlib inline\n",
    "%config InlineBackend.figure_format = 'retina'\n",
    "\n",
    "import tensorflow as tf\n",
    "import pickle\n",
    "import helper\n",
    "import random\n",
    "\n",
    "# Set batch size if not already set\n",
    "try:\n",
    "    if batch_size:\n",
    "        pass\n",
    "except NameError:\n",
    "    batch_size = 64\n",
    "\n",
    "save_model_path = './image_classification'\n",
    "n_samples = 4\n",
    "top_n_predictions = 3\n",
    "\n",
    "def test_model():\n",
    "    \"\"\"\n",
    "    Test the saved model against the test dataset\n",
    "    \"\"\"\n",
    "\n",
    "    test_features, test_labels = pickle.load(open('preprocess_test.p', mode='rb'))\n",
    "    loaded_graph = tf.Graph()\n",
    "\n",
    "    with tf.Session(graph=loaded_graph) as sess:\n",
    "        # Load model\n",
    "        loader = tf.train.import_meta_graph(save_model_path + '.meta')\n",
    "        loader.restore(sess, save_model_path)\n",
    "\n",
    "        # Get Tensors from loaded model\n",
    "        loaded_x = loaded_graph.get_tensor_by_name('x:0')\n",
    "        loaded_y = loaded_graph.get_tensor_by_name('y:0')\n",
    "        loaded_keep_prob = loaded_graph.get_tensor_by_name('keep_prob:0')\n",
    "        loaded_logits = loaded_graph.get_tensor_by_name('logits:0')\n",
    "        loaded_acc = loaded_graph.get_tensor_by_name('accuracy:0')\n",
    "        \n",
    "        # Get accuracy in batches for memory limitations\n",
    "        test_batch_acc_total = 0\n",
    "        test_batch_count = 0\n",
    "        \n",
    "        for test_feature_batch, test_label_batch in helper.batch_features_labels(test_features, test_labels, batch_size):\n",
    "            test_batch_acc_total += sess.run(\n",
    "                loaded_acc,\n",
    "                feed_dict={loaded_x: test_feature_batch, loaded_y: test_label_batch, loaded_keep_prob: 1.0})\n",
    "            test_batch_count += 1\n",
    "\n",
    "        print('Testing Accuracy: {}\\n'.format(test_batch_acc_total/test_batch_count))\n",
    "\n",
    "        # Print Random Samples\n",
    "        random_test_features, random_test_labels = tuple(zip(*random.sample(list(zip(test_features, test_labels)), n_samples)))\n",
    "        random_test_predictions = sess.run(\n",
    "            tf.nn.top_k(tf.nn.softmax(loaded_logits), top_n_predictions),\n",
    "            feed_dict={loaded_x: random_test_features, loaded_y: random_test_labels, loaded_keep_prob: 1.0})\n",
    "        helper.display_image_predictions(random_test_features, random_test_labels, random_test_predictions)\n",
    "\n",
    "\n",
    "test_model()"
   ]
  },
  {
   "cell_type": "markdown",
   "metadata": {},
   "source": [
    "## Why 50-80% Accuracy?\n",
    "You might be wondering why you can't get an accuracy any higher. First things first, 50% isn't bad for a simple CNN.  Pure guessing would get you 10% accuracy. However, you might notice people are getting scores [well above 80%](http://rodrigob.github.io/are_we_there_yet/build/classification_datasets_results.html#43494641522d3130).  That's because we haven't taught you all there is to know about neural networks. We still need to cover a few more techniques.\n",
    "## Submitting This Project\n",
    "When submitting this project, make sure to run all the cells before saving the notebook.  Save the notebook file as \"dlnd_image_classification.ipynb\" and save it as a HTML file under \"File\" -> \"Download as\".  Include the \"helper.py\" and \"problem_unittests.py\" files in your submission."
   ]
  }
 ],
 "metadata": {
  "kernelspec": {
   "display_name": "Python 3",
   "language": "python",
   "name": "python3"
  },
  "language_info": {
   "codemirror_mode": {
    "name": "ipython",
    "version": 3
   },
   "file_extension": ".py",
   "mimetype": "text/x-python",
   "name": "python",
   "nbconvert_exporter": "python",
   "pygments_lexer": "ipython3",
   "version": "3.6.2"
  }
 },
 "nbformat": 4,
 "nbformat_minor": 1
}
